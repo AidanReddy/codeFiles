{
 "cells": [
  {
   "cell_type": "code",
   "execution_count": 2,
   "id": "81e6b74f-8737-425d-aa90-b43b529b5efb",
   "metadata": {},
   "outputs": [],
   "source": [
    "import numpy as np\n",
    "import scipy.special"
   ]
  },
  {
   "cell_type": "code",
   "execution_count": 8,
   "id": "2b4db630-1f73-4b21-8c2f-b84c1b6b4ed0",
   "metadata": {},
   "outputs": [],
   "source": [
    "#WS2\n",
    "\n",
    "\n",
    "a0 = 3.182\n",
    "m = 0.9\n",
    "V1 = 39.45\n",
    "V2 = 6.5\n",
    "V3 = 10.0\n",
    "\n",
    "\"\"\"\n",
    "a0 = 3.18\n",
    "m = 0.87\n",
    "V1 = 33.5\n",
    "V2 = 4.0\n",
    "V3 = 5.5\n",
    "\"\"\"\n",
    "\n",
    "eSquaredOvere0 =  14400 #meV * angstrom\n",
    "dielectricConstant = 5.1\n",
    "hbar = 6.582 * 10**(-13) # meV * s\n",
    "electronMass = 5.856301 * 10**(-29) # meV *(second/Å)\n",
    "mStar = 0.9*(electronMass)\n",
    "JoulesPermeV = 1.602 * 10**(-22)\n",
    "SquareMetersPerSqareAngstrom = 10**(-20)\n",
    "Kb = 0.08617 # meV per Kelvin"
   ]
  },
  {
   "cell_type": "markdown",
   "id": "31e7dff9-a0a5-40cf-8edd-25440ce2a36f",
   "metadata": {},
   "source": [
    "def computeParameters(theta):\n",
    "    aM = a0*(180/np.pi)/theta # angstroms\n",
    "    gamma = 4*np.pi**2*(V1+6*V2+4*V3) # meV\n",
    "    hbaromega = np.sqrt(gamma/m)/aM # sqrt(meV/electron mass)/angstrom\n",
    "    hbaromega*=87.292 # sqrt(meV/electron mass)/angstrom to meV\n",
    "    l = np.sqrt(1/(m*hbaromega)) * 8.7292 # 8.7292 = sqrt((e^2/(m_e*meV)))/nm\n",
    "    coulombEnergy = 1.44*10**(3)/dielectricConstant/l # e^2 = 1.44 eV*nm\n",
    "    ratio = coulombEnergy/hbaromega\n",
    "    return(aM, gamma, hbaromega, l, coulombEnergy, ratio)"
   ]
  },
  {
   "cell_type": "code",
   "execution_count": 43,
   "id": "e4b20d76-ab70-4360-84d2-3e53c0397c72",
   "metadata": {},
   "outputs": [],
   "source": [
    "def computeParameters(theta):\n",
    "    aM = a0*(180/np.pi)/theta # angstroms\n",
    "    gamma = 8*(np.pi**2)*(V1-6*V2+4*V3) # meV\n",
    "    print(gamma)\n",
    "    hbaromega = hbar*np.sqrt(gamma/mStar)/aM # sqrt(meV/electron mass)/angstrom\n",
    "    l = np.sqrt(hbar**2/(mStar*hbaromega))\n",
    "    coulombEnergy = eSquaredOvere0/(dielectricConstant*l)\n",
    "    coulombToConfinementRatio = coulombEnergy/hbaromega\n",
    "    interAtomCoulomb = eSquaredOvere0/(dielectricConstant*(aM/np.sqrt(3)))\n",
    "    coulombRatio = coulombEnergy/interAtomCoulomb\n",
    "    return(aM, gamma, hbaromega, l, coulombEnergy, interAtomCoulomb, coulombRatio, coulombToConfinementRatio)"
   ]
  },
  {
   "cell_type": "code",
   "execution_count": 4,
   "id": "f32bd934-818d-47af-80f6-3d63b6aeb0cc",
   "metadata": {},
   "outputs": [
    {
     "ename": "NameError",
     "evalue": "name 'computeParameters' is not defined",
     "output_type": "error",
     "traceback": [
      "\u001b[0;31m---------------------------------------------------------------------------\u001b[0m",
      "\u001b[0;31mNameError\u001b[0m                                 Traceback (most recent call last)",
      "\u001b[1;32m/Users/aidanreddy/Desktop/resonantEnergyTransfer/codeFiles/moireAtomPluggingInNumbers.ipynb Cell 5'\u001b[0m in \u001b[0;36m<cell line: 1>\u001b[0;34m()\u001b[0m\n\u001b[0;32m----> <a href='vscode-notebook-cell:/Users/aidanreddy/Desktop/resonantEnergyTransfer/codeFiles/moireAtomPluggingInNumbers.ipynb#ch0000004?line=0'>1</a>\u001b[0m aM, gamma, hbaromega, l, coulombEnergy, interAtomCoulomb, coulombRatio, coulombToConfinementRatio \u001b[39m=\u001b[39m computeParameters(\u001b[39m1\u001b[39m)\n\u001b[1;32m      <a href='vscode-notebook-cell:/Users/aidanreddy/Desktop/resonantEnergyTransfer/codeFiles/moireAtomPluggingInNumbers.ipynb#ch0000004?line=1'>2</a>\u001b[0m \u001b[39mprint\u001b[39m(computeParameters(\u001b[39m1\u001b[39m))\n",
      "\u001b[0;31mNameError\u001b[0m: name 'computeParameters' is not defined"
     ]
    }
   ],
   "source": [
    "aM, gamma, hbaromega, l, coulombEnergy, interAtomCoulomb, coulombRatio, coulombToConfinementRatio = computeParameters(1)\n",
    "print(computeParameters(1))"
   ]
  },
  {
   "cell_type": "code",
   "execution_count": 5,
   "id": "6f3eb53d-f30f-4e38-86d6-b1b154b37412",
   "metadata": {},
   "outputs": [
    {
     "ename": "NameError",
     "evalue": "name 'aM' is not defined",
     "output_type": "error",
     "traceback": [
      "\u001b[0;31m---------------------------------------------------------------------------\u001b[0m",
      "\u001b[0;31mNameError\u001b[0m                                 Traceback (most recent call last)",
      "\u001b[1;32m/Users/aidanreddy/Desktop/resonantEnergyTransfer/codeFiles/moireAtomPluggingInNumbers.ipynb Cell 6'\u001b[0m in \u001b[0;36m<cell line: 1>\u001b[0;34m()\u001b[0m\n\u001b[0;32m----> <a href='vscode-notebook-cell:/Users/aidanreddy/Desktop/resonantEnergyTransfer/codeFiles/moireAtomPluggingInNumbers.ipynb#ch0000005?line=0'>1</a>\u001b[0m \u001b[39mprint\u001b[39m((aM\u001b[39m/\u001b[39mnp\u001b[39m.\u001b[39msqrt(\u001b[39m3\u001b[39m))\u001b[39m/\u001b[39ml)\n\u001b[1;32m      <a href='vscode-notebook-cell:/Users/aidanreddy/Desktop/resonantEnergyTransfer/codeFiles/moireAtomPluggingInNumbers.ipynb#ch0000005?line=1'>2</a>\u001b[0m \u001b[39mprint\u001b[39m(coulombToConfinementRatio)\n\u001b[1;32m      <a href='vscode-notebook-cell:/Users/aidanreddy/Desktop/resonantEnergyTransfer/codeFiles/moireAtomPluggingInNumbers.ipynb#ch0000005?line=2'>3</a>\u001b[0m \u001b[39mprint\u001b[39m(aM\u001b[39m/\u001b[39mnp\u001b[39m.\u001b[39msqrt(\u001b[39m3\u001b[39m))\n",
      "\u001b[0;31mNameError\u001b[0m: name 'aM' is not defined"
     ]
    }
   ],
   "source": [
    "print((aM/np.sqrt(3))/l)\n",
    "print(coulombToConfinementRatio)\n",
    "print(aM/np.sqrt(3))"
   ]
  },
  {
   "cell_type": "code",
   "execution_count": 6,
   "id": "b72fa48a-532a-42dc-b28f-e5b8d1e388c0",
   "metadata": {},
   "outputs": [
    {
     "ename": "NameError",
     "evalue": "name 'coulombEnergy' is not defined",
     "output_type": "error",
     "traceback": [
      "\u001b[0;31m---------------------------------------------------------------------------\u001b[0m",
      "\u001b[0;31mNameError\u001b[0m                                 Traceback (most recent call last)",
      "\u001b[1;32m/Users/aidanreddy/Desktop/resonantEnergyTransfer/codeFiles/moireAtomPluggingInNumbers.ipynb Cell 7'\u001b[0m in \u001b[0;36m<cell line: 1>\u001b[0;34m()\u001b[0m\n\u001b[0;32m----> <a href='vscode-notebook-cell:/Users/aidanreddy/Desktop/resonantEnergyTransfer/codeFiles/moireAtomPluggingInNumbers.ipynb#ch0000006?line=0'>1</a>\u001b[0m \u001b[39mprint\u001b[39m(coulombEnergy)\n\u001b[1;32m      <a href='vscode-notebook-cell:/Users/aidanreddy/Desktop/resonantEnergyTransfer/codeFiles/moireAtomPluggingInNumbers.ipynb#ch0000006?line=1'>2</a>\u001b[0m \u001b[39mprint\u001b[39m(\u001b[39m2\u001b[39m\u001b[39m*\u001b[39m\u001b[39m*\u001b[39m(\u001b[39m-\u001b[39m\u001b[39m4\u001b[39m) \u001b[39m*\u001b[39m scipy\u001b[39m.\u001b[39mspecial\u001b[39m.\u001b[39mgamma(\u001b[39m3\u001b[39m\u001b[39m/\u001b[39m\u001b[39m2\u001b[39m))\n\u001b[1;32m      <a href='vscode-notebook-cell:/Users/aidanreddy/Desktop/resonantEnergyTransfer/codeFiles/moireAtomPluggingInNumbers.ipynb#ch0000006?line=2'>3</a>\u001b[0m \u001b[39mprint\u001b[39m(coulombEnergy\u001b[39m*\u001b[39m\u001b[39m2\u001b[39m\u001b[39m*\u001b[39m\u001b[39m*\u001b[39m(\u001b[39m-\u001b[39m\u001b[39m3\u001b[39m) \u001b[39m*\u001b[39m scipy\u001b[39m.\u001b[39mspecial\u001b[39m.\u001b[39mgamma(\u001b[39m3\u001b[39m\u001b[39m/\u001b[39m\u001b[39m2\u001b[39m))\n",
      "\u001b[0;31mNameError\u001b[0m: name 'coulombEnergy' is not defined"
     ]
    }
   ],
   "source": [
    "print(coulombEnergy)\n",
    "print(2**(-4) * scipy.special.gamma(3/2))\n",
    "print(coulombEnergy*2**(-3) * scipy.special.gamma(3/2))"
   ]
  },
  {
   "cell_type": "code",
   "execution_count": 21,
   "id": "e1a38bb9-21be-46c1-819e-000d18e39b09",
   "metadata": {},
   "outputs": [
    {
     "name": "stdout",
     "output_type": "stream",
     "text": [
      "20.088045081579416\n"
     ]
    }
   ],
   "source": [
    "gamma = 20 #meV\n",
    "GEstimate = 4*np.pi/(hbar*aM**2) * (coulombEnergy)**2*(2**(-3) * scipy.special.gamma(3/2))**2 * 2 * (2/(np.pi*gamma)) * SquareMetersPerSqareAngstrom**(-1) * JoulesPermeV * Kb\n",
    "print(GEstimate*10**(-6))"
   ]
  },
  {
   "cell_type": "markdown",
   "id": "b49aed75-b372-4b28-97e1-4045b2ad8569",
   "metadata": {},
   "source": [
    "Okay, I was surprised initally by the numbers I was getting in my full calculation, but with the above order of magnitude estimate taken into consideration, it makes some sense."
   ]
  },
  {
   "cell_type": "code",
   "execution_count": 75,
   "id": "c4560e28-bb96-4893-8d2b-aa4f0f7564b3",
   "metadata": {},
   "outputs": [
    {
     "name": "stdout",
     "output_type": "stream",
     "text": [
      "0.9999999999999998\n"
     ]
    }
   ],
   "source": [
    "Kb = 0.08617 # meV per Kelvin\n",
    "hbar = 6.582 * 10**(-13) # meV * s\n",
    "JoulesPermeV = 1.602 * 10**(-22)\n",
    "SquareMetersPerSqareAngstrom = 10**(-20)\n",
    "electronMass = 5.856301 * 10**(-29) # meV *(second/Å)\n",
    "\n",
    "dielectricConstant = 5.1\n",
    "eSquaredOvere =  14400 * 1/dielectricConstant #meV * angstrom #CGS\n",
    "\n",
    "E0 = eSquaredOvere/(l)\n",
    "print(E0/coulombEnergy)"
   ]
  },
  {
   "cell_type": "code",
   "execution_count": 48,
   "id": "b384eb33-d201-4ace-af1d-feca5a2290ff",
   "metadata": {},
   "outputs": [
    {
     "name": "stdout",
     "output_type": "stream",
     "text": [
      "G (MWm^(-2)K^(-1): 79.68666291495333\n"
     ]
    }
   ],
   "source": [
    "#GOrderOfMagnitudeCalculations\n",
    "\n",
    "#02/18/2022\n",
    "\n",
    "Gamma = 20\n",
    "\n",
    "G = (2*np.pi*Kb)/(hbar) * 2 * (aM)**(-2) * 0.15 * 2 * (coulombEnergy)**2 * ((np.sqrt(np.pi/8))**2) * 2/(np.pi*Gamma) * JoulesPermeV * (SquareMetersPerSqareAngstrom)**(-1)\n",
    "\n",
    "print('G (MWm^(-2)K^(-1):', (G*10**(-6)))"
   ]
  },
  {
   "cell_type": "code",
   "execution_count": 37,
   "id": "46bca37d-b1cb-4732-bf43-144f215c7c36",
   "metadata": {},
   "outputs": [
    {
     "name": "stdout",
     "output_type": "stream",
     "text": [
      "112.84732719024247\n",
      "3.7249175744093335\n"
     ]
    }
   ],
   "source": [
    "VSquared = (coulombEnergy)**2 * ((np.sqrt(np.pi/8))**2)\n",
    "print(np.sqrt(VSquared))\n",
    "print(420.3469922760544/np.sqrt(VSquared))"
   ]
  },
  {
   "cell_type": "code",
   "execution_count": 3,
   "id": "2b27e765-d60c-4081-92bf-230616730188",
   "metadata": {},
   "outputs": [
    {
     "ename": "NameError",
     "evalue": "name 'Kb' is not defined",
     "output_type": "error",
     "traceback": [
      "\u001b[0;31m---------------------------------------------------------------------------\u001b[0m",
      "\u001b[0;31mNameError\u001b[0m                                 Traceback (most recent call last)",
      "\u001b[1;32m/Users/aidanreddy/Desktop/resonantEnergyTransfer/codeFiles/moireAtomPluggingInNumbers.ipynb Cell 13'\u001b[0m in \u001b[0;36m<cell line: 5>\u001b[0;34m()\u001b[0m\n\u001b[1;32m      <a href='vscode-notebook-cell:/Users/aidanreddy/Desktop/resonantEnergyTransfer/codeFiles/moireAtomPluggingInNumbers.ipynb#ch0000012?line=0'>1</a>\u001b[0m \u001b[39m#Reddy formula numerical prefactors\u001b[39;00m\n\u001b[1;32m      <a href='vscode-notebook-cell:/Users/aidanreddy/Desktop/resonantEnergyTransfer/codeFiles/moireAtomPluggingInNumbers.ipynb#ch0000012?line=2'>3</a>\u001b[0m Gamma\u001b[39m=\u001b[39m \u001b[39m1\u001b[39m\n\u001b[0;32m----> <a href='vscode-notebook-cell:/Users/aidanreddy/Desktop/resonantEnergyTransfer/codeFiles/moireAtomPluggingInNumbers.ipynb#ch0000012?line=4'>5</a>\u001b[0m \u001b[39mprint\u001b[39m((\u001b[39m2\u001b[39m\u001b[39m*\u001b[39mnp\u001b[39m.\u001b[39mpi\u001b[39m*\u001b[39mKb)\u001b[39m/\u001b[39m(hbar)\u001b[39m*\u001b[39m JoulesPermeV \u001b[39m*\u001b[39m (SquareMetersPerSqareAngstrom)\u001b[39m*\u001b[39m\u001b[39m*\u001b[39m(\u001b[39m-\u001b[39m\u001b[39m1\u001b[39m))\n\u001b[1;32m      <a href='vscode-notebook-cell:/Users/aidanreddy/Desktop/resonantEnergyTransfer/codeFiles/moireAtomPluggingInNumbers.ipynb#ch0000012?line=5'>6</a>\u001b[0m GContactLimit \u001b[39m=\u001b[39m (\u001b[39m2\u001b[39m\u001b[39m*\u001b[39mnp\u001b[39m.\u001b[39mpi\u001b[39m*\u001b[39mKb)\u001b[39m/\u001b[39m(hbar) \u001b[39m*\u001b[39m \u001b[39m2\u001b[39m \u001b[39m*\u001b[39m (aM)\u001b[39m*\u001b[39m\u001b[39m*\u001b[39m(\u001b[39m-\u001b[39m\u001b[39m2\u001b[39m) \u001b[39m*\u001b[39m \u001b[39m0.15\u001b[39m \u001b[39m*\u001b[39m \u001b[39m2\u001b[39m \u001b[39m*\u001b[39m (coulombEnergy)\u001b[39m*\u001b[39m\u001b[39m*\u001b[39m\u001b[39m2\u001b[39m \u001b[39m*\u001b[39m ((np\u001b[39m.\u001b[39msqrt(np\u001b[39m.\u001b[39mpi\u001b[39m/\u001b[39m\u001b[39m8\u001b[39m))\u001b[39m*\u001b[39m\u001b[39m*\u001b[39m\u001b[39m2\u001b[39m) \u001b[39m*\u001b[39m \u001b[39m2\u001b[39m\u001b[39m/\u001b[39m(np\u001b[39m.\u001b[39mpi\u001b[39m*\u001b[39mGamma) \u001b[39m*\u001b[39m JoulesPermeV \u001b[39m*\u001b[39m (SquareMetersPerSqareAngstrom)\u001b[39m*\u001b[39m\u001b[39m*\u001b[39m(\u001b[39m-\u001b[39m\u001b[39m1\u001b[39m)\n\u001b[1;32m      <a href='vscode-notebook-cell:/Users/aidanreddy/Desktop/resonantEnergyTransfer/codeFiles/moireAtomPluggingInNumbers.ipynb#ch0000012?line=7'>8</a>\u001b[0m \u001b[39mprint\u001b[39m(\u001b[39m'\u001b[39m\u001b[39mG Contact Limit (MWm^(-2)K^(-1):\u001b[39m\u001b[39m'\u001b[39m, (GContactLimit\u001b[39m*\u001b[39m\u001b[39m10\u001b[39m\u001b[39m*\u001b[39m\u001b[39m*\u001b[39m(\u001b[39m-\u001b[39m\u001b[39m6\u001b[39m)))\n",
      "\u001b[0;31mNameError\u001b[0m: name 'Kb' is not defined"
     ]
    }
   ],
   "source": [
    "#Reddy formula numerical prefactors\n",
    "\n",
    "Gamma= 1\n",
    "\n",
    "print((2*np.pi*Kb)/(hbar)* JoulesPermeV * (SquareMetersPerSqareAngstrom)**(-1))\n",
    "GContactLimit = (2*np.pi*Kb)/(hbar) * 2 * (aM)**(-2) * 0.15 * 2 * (coulombEnergy)**2 * ((np.sqrt(np.pi/8))**2) * 2/(np.pi*Gamma) * JoulesPermeV * (SquareMetersPerSqareAngstrom)**(-1)\n",
    "\n",
    "print('G Contact Limit (MWm^(-2)K^(-1):', (GContactLimit*10**(-6)))\n",
    "\n",
    "GRemoteLimit = (l/(10*1.36))**4 * (2*np.pi*Kb)/(hbar) * (2 * (aM)**(-2))**2 * 0.15 * 4 * (coulombEnergy)**2 * (3*np.pi/16) * 2/(np.pi*Gamma) * l**2 * JoulesPermeV * (SquareMetersPerSqareAngstrom)**(-1)\n",
    "\n",
    "# note (l/(10*1.36))**4  in remote limit accounts for the fact that we're dealing with dTilde, not just d\n",
    "\n",
    "print('G Remote Limit (MWm^(-2)K^(-1):', (GRemoteLimit*10**(-6)))"
   ]
  },
  {
   "cell_type": "code",
   "execution_count": 54,
   "id": "333f4a9a-c6bc-4fc9-b568-d99771c5eb3f",
   "metadata": {
    "tags": []
   },
   "outputs": [
    {
     "name": "stdout",
     "output_type": "stream",
     "text": [
      "28.583662671841395\n"
     ]
    }
   ],
   "source": [
    "print(hbaromega)"
   ]
  },
  {
   "cell_type": "code",
   "execution_count": 59,
   "id": "4f443f13-d173-4dfd-957a-56d3b44fe259",
   "metadata": {},
   "outputs": [
    {
     "data": {
      "text/plain": [
       "17.24755813721133"
      ]
     },
     "execution_count": 59,
     "metadata": {},
     "output_type": "execute_result"
    }
   ],
   "source": [
    "l"
   ]
  },
  {
   "cell_type": "code",
   "execution_count": 67,
   "id": "90e32cbc-af89-4ca8-a115-c077f2c7e92f",
   "metadata": {},
   "outputs": [
    {
     "data": {
      "text/plain": [
       "221.37641097427903"
      ]
     },
     "execution_count": 67,
     "metadata": {},
     "output_type": "execute_result"
    }
   ],
   "source": []
  },
  {
   "cell_type": "code",
   "execution_count": 69,
   "id": "9ff54591-90dd-41fd-9d7c-3b88ccec7c9d",
   "metadata": {},
   "outputs": [
    {
     "data": {
      "text/plain": [
       "60.77172347020932"
      ]
     },
     "execution_count": 69,
     "metadata": {},
     "output_type": "execute_result"
    }
   ],
   "source": [
    "aM/3"
   ]
  },
  {
   "cell_type": "code",
   "execution_count": null,
   "id": "9b67c158-5da9-47a7-9a4d-f2fe0a5a192c",
   "metadata": {},
   "outputs": [],
   "source": []
  },
  {
   "cell_type": "code",
   "execution_count": 9,
   "id": "a04a2cb5-df90-46d1-8eca-d5c5b1d6e1da",
   "metadata": {},
   "outputs": [
    {
     "name": "stdout",
     "output_type": "stream",
     "text": [
      "13177729699.594398\n"
     ]
    }
   ],
   "source": [
    "print((2*np.pi*Kb)/(hbar)* JoulesPermeV * (SquareMetersPerSqareAngstrom)**(-1))"
   ]
  }
 ],
 "metadata": {
  "kernelspec": {
   "display_name": "Python 3 (ipykernel)",
   "language": "python",
   "name": "python3"
  },
  "language_info": {
   "codemirror_mode": {
    "name": "ipython",
    "version": 3
   },
   "file_extension": ".py",
   "mimetype": "text/x-python",
   "name": "python",
   "nbconvert_exporter": "python",
   "pygments_lexer": "ipython3",
   "version": "3.8.13"
  }
 },
 "nbformat": 4,
 "nbformat_minor": 5
}
